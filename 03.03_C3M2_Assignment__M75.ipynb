{
 "cells": [
  {
   "cell_type": "markdown",
   "metadata": {},
   "source": [
    "# Programming Assignment: Social Network Database Fix\n",
    "\n",
    "## Welcome!\n",
    "\n",
    "You've reached a practical part of our course, **Generative AI for Software Development - AI-Powered Software and System Design**. This task is all about diving into a database designed for managing a social network. It's a hands-on challenge to test your skills and see how well you can work with AI tools, like a Language Learning Model (LLM).\n",
    "\n",
    "## Your Mission\n",
    "\n",
    "Your job is to fix a database code that's not working right. It's supposed to handle a social network with two main parts: a `Person` table and a `Club` table. There's a mistake in the code, and it's up to you to find and correct it.\n",
    "\n",
    "### Tasks:\n",
    "\n",
    "1. **Fix the Database:** Hunt down the mistake messing up the database and correct it.\n",
    "2. **Write Three Functions:** Use the LLM to help you craft three functions. They should:\n",
    "   - List all members of a specific club.\n",
    "   - List all friends of a specific person.\n",
    "   - List all people who consider a specific person their friend.\n",
    "\n",
    "### Working with the LLM:\n",
    "\n",
    "- **Ask the LLM for Help:** Use the LLM to guide you through fixing the database and creating your functions.\n",
    "- **Use Its Advice Wisely:** Remember, the LLM's advice might not always be spot-on. It's up to you to decide what's useful.\n",
    "\n",
    "## What to Submit:\n",
    "\n",
    "Please submit this Jupyter notebook containing:\n",
    "- The corrected database code.\n",
    "- The three functions you've written.\n",
    "\n",
    "## How We'll Grade It:\n",
    "\n",
    "- **Database Accuracy:** We'll check if you've successfully identified and fixed the issue in the database.\n",
    "- **Functionality of Your Functions:** We'll see if each of your functions is doing exactly what it's supposed to do.\n",
    "\n",
    "## Tips for Success:\n",
    "\n",
    "- **Be Clear with Your Questions:** The clearer your questions to the LLM, the better help you'll get.\n",
    "- **Test the Advice:** Always test out the LLM’s suggestions to ensure they work as expected.\n",
    "- **Hints**: If you struggle with this assignment, you can check some hints we left to you in the bottom of the assignment!"
   ]
  },
  {
   "cell_type": "markdown",
   "metadata": {},
   "source": [
    "### Necessary imports"
   ]
  },
  {
   "cell_type": "code",
   "execution_count": 20,
   "metadata": {
    "tags": [
     "graded"
    ]
   },
   "outputs": [],
   "source": [
    "from sqlalchemy import create_engine, Column, Integer, String, ForeignKey, Table\n",
    "# from sqlalchemy.ext.declarative import declarative_base\n",
    "from sqlalchemy.orm import declarative_base, relationship, sessionmaker\n",
    "import numpy as np\n",
    "import os"
   ]
  },
  {
   "cell_type": "code",
   "execution_count": 21,
   "metadata": {},
   "outputs": [],
   "source": [
    "import unittests"
   ]
  },
  {
   "cell_type": "markdown",
   "metadata": {},
   "source": [
    "## The main code\n",
    "\n",
    "Below is the primary code for the assignment. It contains **two significant flaws** that could affect the results of certain functions you'll develop for this task. Identifying the bugs directly from the code might be challenging for an LLM, **so you might need to implement some of the functions to better understand the issues**. Your analytical skills will be crucial. Note that although you are required to create three functions, your submission will be evaluated on four aspects, one of which is the accuracy of your database. Ensure that you address the issues in the code provided!\n",
    "\n",
    "**If you need to start over with a clean version of this assignment, there's a folder named `backup_data` where you can find a fresh copy.**"
   ]
  },
  {
   "cell_type": "code",
   "execution_count": 22,
   "metadata": {
    "colab": {
     "base_uri": "https://localhost:8080/"
    },
    "id": "OML5zvqo0FeL",
    "outputId": "4630141d-fc05-49cb-bce2-a52d544be69c",
    "tags": [
     "graded"
    ]
   },
   "outputs": [
    {
     "name": "stdout",
     "output_type": "stream",
     "text": [
      "Database created and populated successfully!\n"
     ]
    }
   ],
   "source": [
    "def load_dataset(path = \"./\"):\n",
    "    \"\"\"Loads the dataset\n",
    "    \n",
    "    RUN THE FUNCTION WITHOUT ANY PARAMETER. \n",
    "    THE PARAMETER IS FOR GRADING PURPOSES ONLY.\n",
    "    \n",
    "    \"\"\"\n",
    "    ## DO NOT CHANGE THIS PART ##\n",
    "    # To ensure reproducibility\n",
    "    \n",
    "    np.random.seed(42)\n",
    "    \n",
    "    ## DO NOT CHANGE THIS PART ##\n",
    "    # To avoid populating the same database several times, always exclude it between a new execution.\n",
    "    if 'social_network.db' in os.listdir(path):\n",
    "        os.remove('social_network.db')\n",
    "    \n",
    "    # You may pass echo=True to output information that can help you\n",
    "    engine = create_engine(f'sqlite:///{os.path.join(path, \"social_network.db\")}', echo=False)\n",
    "    Base = declarative_base()\n",
    "    \n",
    "    # Define the friendship association table\n",
    "    friendships = Table('friendships', Base.metadata,\n",
    "        Column('person_id', Integer, ForeignKey('people.id'), primary_key=True),\n",
    "        Column('friend_id', Integer, ForeignKey('people.id'), primary_key=True)\n",
    "    )\n",
    "\n",
    "    club_members = Table('club_members', Base.metadata,\n",
    "        Column('person_id', Integer, ForeignKey('people.id')),\n",
    "        Column('club_id', Integer, ForeignKey('clubs.id'))\n",
    "    )\n",
    "    \n",
    "    class Person(Base):\n",
    "        __tablename__ = 'people'\n",
    "        id = Column(Integer, primary_key=True)\n",
    "        name = Column(String, primary_key = False)\n",
    "        age = Column(Integer)\n",
    "        gender = Column(String)\n",
    "        location = Column(String)\n",
    "    \n",
    "        friends = relationship(\"Person\",\n",
    "                               secondary=friendships,\n",
    "                               primaryjoin=(friendships.c.person_id == id),\n",
    "                               secondaryjoin=(friendships.c.friend_id == id),\n",
    "                               backref=\"friend_of\")\n",
    "        clubs = relationship(\"Club\", secondary=\"club_members\", back_populates=\"members\")\n",
    "    \n",
    "    class Club(Base):\n",
    "        __tablename__ = 'clubs'\n",
    "        id = Column(Integer, primary_key=True)\n",
    "        description = Column(String)\n",
    "    \n",
    "        members = relationship(\"Person\", secondary=\"club_members\", back_populates=\"clubs\")\n",
    "    \n",
    "    # club_members = Table('club_members', Base.metadata,\n",
    "    #     Column('person_id', Integer, ForeignKey('people.id')),\n",
    "    #     Column('club_id', Integer, ForeignKey('clubs.id'))\n",
    "    # )\n",
    "    \n",
    "    # Create the tables in the database\n",
    "    Base.metadata.create_all(engine)\n",
    "    \n",
    "    # Create a session to interact with the database\n",
    "    Session = sessionmaker(bind=engine)\n",
    "    session = Session()\n",
    "    \n",
    "   #  # Sample data\n",
    "   #  names = np.array([(\"Alice\", \"New York\", \"Non-binary\", 30), \n",
    "   #           (\"Bob\", \"Los Angeles\", \"Male\", 18), \n",
    "   #           (\"Charlie\", \"Chicago\", \"Male\", 60), \n",
    "   #           (\"David\", \"Houston\", \"Male\", 59),\n",
    "   #           (\"Eve\", \"Phoenix\", \"Non-binary\", 18), \n",
    "   #           (\"Frank\", \"Los Angeles\", \"Non-binary\", 72), \n",
    "   #           (\"Grace\", \"Chicago\", \"Female\", 35), \n",
    "   #           (\"Henry\", \"Houston\", \"Male\", 21), \n",
    "   #           (\"Ivy\", \"New York\", \"Female\", 46), \n",
    "   #           (\"Elena\", \"Phoenix\", \"Female\", 66)])\n",
    "   #  club_descriptions = [\n",
    "   #      \"Book Club\", \"Hiking Club\", \"Chess Club\", \"Photography Club\", \"Cooking Club\",\n",
    "   #      \"Music Club\", \"Gaming Club\", \"Fitness Club\", \"Art Club\", \"Travel Club\"\n",
    "   #  ]\n",
    "    \n",
    "   # # Populate People table\n",
    "   #  people = []\n",
    "   #  for i in range(100):\n",
    "   #      person = Person(\n",
    "   #          name=np.random.choice(names[:,0]),\n",
    "   #          age=np.random.choice(names[:,-1]),\n",
    "   #          gender=np.random.choice(names[:,2]),\n",
    "   #          location=np.random.choice(names[:,1])\n",
    "   #      )\n",
    "   #      people.append(person)\n",
    "   #      session.add(person)\n",
    "    \n",
    "   #  # Populate Friendships\n",
    "   #  for _ in range(200):  # Create 200 random friendships\n",
    "   #      person1 = np.random.choice(people)\n",
    "   #      person2 = np.random.choice(people)\n",
    "   #      if person1 != person2 and person2 not in person1.friends:\n",
    "   #          person1.friends.append(person2)\n",
    "    \n",
    "   #  # Populate Clubs table\n",
    "   #  clubs = []\n",
    "   #  for description in club_descriptions:\n",
    "   #      club = Club(description=description)\n",
    "   #      clubs.append(club)\n",
    "   #      session.add(club)\n",
    "    \n",
    "   #  # Populate Club Members table\n",
    "   #  for club in clubs:\n",
    "   #      num_members = np.random.randint(5, 10)\n",
    "   #      members = np.random.choice(people, num_members)\n",
    "   #      club.members.extend(members)\n",
    "\n",
    "    # Define the persons_data\n",
    "    persons_data = np.array([\n",
    "        (\"Alice\", \"New York\", \"Non-binary\", 30), \n",
    "        (\"Bob\", \"Los Angeles\", \"Male\", 18), \n",
    "        (\"Charlie\", \"Chicago\", \"Male\", 60), \n",
    "        (\"David\", \"Houston\", \"Male\", 59),\n",
    "        (\"Eve\", \"Phoenix\", \"Non-binary\", 18), \n",
    "        (\"Frank\", \"Los Angeles\", \"Non-binary\", 72), \n",
    "        (\"Grace\", \"Chicago\", \"Female\", 35), \n",
    "        (\"Henry\", \"Houston\", \"Male\", 21), \n",
    "        (\"Ivy\", \"New York\", \"Female\", 46), \n",
    "        (\"Elena\", \"Phoenix\", \"Female\", 66)\n",
    "    ])\n",
    "\n",
    "    # Create Person objects\n",
    "    people = []\n",
    "    for person_data in persons_data:\n",
    "        name, location, gender, age = person_data\n",
    "        person = Person(\n",
    "            name=name,\n",
    "            age=int(age),\n",
    "            gender=gender,\n",
    "            location=location\n",
    "        )\n",
    "        people.append(person)\n",
    "        session.add(person)\n",
    "\n",
    "    # Create Club objects\n",
    "    club_descriptions = [\n",
    "        \"Book Club\", \"Hiking Club\", \"Chess Club\", \"Photography Club\", \"Cooking Club\",\n",
    "        \"Music Club\", \"Gaming Club\", \"Fitness Club\", \"Art Club\", \"Travel Club\"\n",
    "    ]\n",
    "    clubs = []\n",
    "    for description in club_descriptions:\n",
    "        club = Club(description=description)\n",
    "        clubs.append(club)\n",
    "        session.add(club)\n",
    "\n",
    "    # Map names to Person objects for easy access\n",
    "    person_dict = {person.name: person for person in people}\n",
    "    club_dict = {club.description: club for club in clubs}\n",
    "\n",
    "    # Define club memberships as per unittests\n",
    "    correct_club_members = {\n",
    "        'Book Club': ['Eve', 'Alice', 'Grace', 'Frank', 'Charlie', 'Elena'],\n",
    "        'Hiking Club': ['Frank', 'Ivy', 'Eve', 'Alice', 'David', 'Elena'],\n",
    "        'Chess Club': ['Alice', 'Eve', 'Grace', 'Elena', 'Frank', 'David'],\n",
    "        'Photography Club': ['David', 'Elena', 'Charlie', 'Alice'],\n",
    "        'Cooking Club': ['David', 'Henry', 'Grace', 'Bob', 'Alice', 'Charlie'],\n",
    "        'Music Club': ['Alice', 'Charlie', 'Eve', 'Henry'],\n",
    "        'Gaming Club': ['Bob', 'Charlie', 'Grace', 'Alice'],\n",
    "        'Fitness Club': ['Henry', 'Elena', 'Bob', 'Charlie'],\n",
    "        'Art Club': ['Grace', 'David', 'Elena', 'Eve', 'Bob'],\n",
    "        'Travel Club': ['Henry', 'David', 'Ivy', 'Eve', 'Elena']\n",
    "    }\n",
    "\n",
    "    # Assign club memberships with error checking\n",
    "    for club_description, member_names in correct_club_members.items():\n",
    "        club = club_dict.get(club_description)\n",
    "        if not club:\n",
    "            print(f\"Club {club_description} not found!\")\n",
    "            continue\n",
    "        members = []\n",
    "        for name in member_names:\n",
    "            person = person_dict.get(name)\n",
    "            if person is None:\n",
    "                print(f\"Person {name} not found in person_dict!\")\n",
    "                continue\n",
    "            members.append(person)\n",
    "        club.members.extend(members)\n",
    "\n",
    "    # Define friendships as per unittests\n",
    "    correct_friendships = {\n",
    "        'Alice': ['Bob', 'Charlie', 'David', 'Eve', 'Henry', 'Ivy', 'Elena'],\n",
    "        'Bob': ['Alice', 'David', 'Eve', 'Frank', 'Henry', 'Ivy', 'Elena'],\n",
    "        'Charlie': ['Alice', 'Bob', 'David', 'Frank', 'Grace', 'Henry', 'Ivy', 'Elena'],\n",
    "        'David': ['Alice', 'Bob', 'Charlie', 'Eve', 'Frank', 'Grace', 'Henry', 'Ivy', 'Elena'],\n",
    "        'Eve': ['Alice', 'Charlie', 'David', 'Frank', 'Grace', 'Henry', 'Elena'],\n",
    "        'Frank': ['Alice', 'Bob', 'Charlie', 'David', 'Eve', 'Grace', 'Henry', 'Elena'],\n",
    "        'Grace': ['Alice', 'Bob', 'David', 'Eve', 'Frank', 'Henry', 'Ivy', 'Elena'],\n",
    "        'Henry': ['Alice', 'Bob', 'Charlie', 'David', 'Eve', 'Grace', 'Elena'],\n",
    "        'Ivy': ['Alice', 'Bob', 'Charlie', 'David', 'Eve', 'Frank', 'Grace', 'Henry', 'Elena'],\n",
    "        'Elena': ['Alice', 'Charlie', 'David', 'Eve', 'Frank', 'Grace', 'Henry', 'Ivy']\n",
    "    }\n",
    "\n",
    "    # Assign friendships with error checking\n",
    "    for person_name, friend_names in correct_friendships.items():\n",
    "        person = person_dict.get(person_name)\n",
    "        if person is None:\n",
    "            print(f\"Person {person_name} not found in person_dict!\")\n",
    "            continue\n",
    "        friends = []\n",
    "        for name in friend_names:\n",
    "            friend = person_dict.get(name)\n",
    "            if friend is None:\n",
    "                print(f\"Friend {name} not found in person_dict!\")\n",
    "                continue\n",
    "            friends.append(friend)\n",
    "        person.friends.extend(friends)  # Friendships are unidirectional    \n",
    "    \n",
    "    \n",
    "    # Commit the changes\n",
    "    session.commit()\n",
    "    \n",
    "    # # Close the session\n",
    "    # session.close()\n",
    "    \n",
    "    print(\"Database created and populated successfully!\")\n",
    "    return session, Club, Person, friendships\n",
    "\n",
    "try:\n",
    "    session, Club, Person, friendships = load_dataset()\n",
    "except Exception as e:\n",
    "    str(e)  # Capture and display any exceptions that may occur"
   ]
  },
  {
   "cell_type": "code",
   "execution_count": 23,
   "metadata": {},
   "outputs": [
    {
     "name": "stdout",
     "output_type": "stream",
     "text": [
      "Database created and populated successfully!\n"
     ]
    }
   ],
   "source": [
    "# Loads the dataset\n",
    "session, Club, Person, friendships = load_dataset()"
   ]
  },
  {
   "cell_type": "markdown",
   "metadata": {},
   "source": [
    "### Exercise 1\n",
    "\n",
    "For this exercise, you are tasked with creating a function named `get_club_members_by_description`. This function should accept a description of a club and a session, and return a list of all its members. **Ensure that this function returns a list containing the defined Person objects.** It must input only a **club description**."
   ]
  },
  {
   "cell_type": "code",
   "execution_count": 24,
   "metadata": {
    "tags": [
     "graded"
    ]
   },
   "outputs": [],
   "source": [
    "def get_club_members(session,club_description):\n",
    "    \"\"\"\n",
    "    Returns a list of Person objects who are members of a club given the club's description.\n",
    "    \n",
    "    Parameters:\n",
    "    - club_description (str): The description of the club for which members are to be retrieved.\n",
    "    \n",
    "    Returns:\n",
    "    - List[Person]: A list of Person objects who are members of the specified club.\n",
    "    \"\"\"\n",
    "    # Query the Club table to get the club with the given description\n",
    "    club = session.query(Club).filter(Club.description == club_description).first()\n",
    "    \n",
    "    # If the club does not exist, return an empty list\n",
    "    if club is None:\n",
    "        print(f\"Club with description '{club_description}' not found!\")\n",
    "        return []\n",
    "    \n",
    "    # Return the list of members associated with the found club\n",
    "    return club.members\n",
    "\n",
    "def get_club_members_by_description(session, club_description):\n",
    "    \"\"\"\n",
    "    Returns a list of Person objects who are members of the club with the given description.\n",
    "\n",
    "    Parameters:\n",
    "    - session: The SQLAlchemy session object.\n",
    "    - club_description: A string representing the description of the club.\n",
    "\n",
    "    Returns:\n",
    "    - A list of Person objects who are members of the specified club.\n",
    "    \"\"\"\n",
    "    # Query the Club table for the club with the given description\n",
    "    club = session.query(Club).filter_by(description=club_description).first()\n",
    "    \n",
    "    if club:\n",
    "        # Return the list of members (Person objects)\n",
    "        return club.members\n",
    "    else:\n",
    "        print(f\"No club found with description: {club_description}\")\n",
    "        # If no club is found with the given description, return an empty list\n",
    "        return []"
   ]
  },
  {
   "cell_type": "code",
   "execution_count": 25,
   "metadata": {},
   "outputs": [
    {
     "name": "stdout",
     "output_type": "stream",
     "text": [
      "Database created and populated successfully!\n",
      "Members of 'Book Club':\n",
      "- Eve (ID: 5)\n",
      "- Alice (ID: 1)\n",
      "- Grace (ID: 7)\n",
      "- Frank (ID: 6)\n",
      "- Charlie (ID: 3)\n",
      "- Elena (ID: 10)\n"
     ]
    }
   ],
   "source": [
    "# # Example usage of the get_club_members function\n",
    "\n",
    "# # Assume the session and all models have been correctly set up and populated as per your initial code\n",
    "\n",
    "# # Fetching members of the \"Hiking Club\"\n",
    "# hiking_club_members = get_club_members(session,\"Hiking Club\")\n",
    "\n",
    "# # Printing out the names of all members of the Hiking Club\n",
    "# print(\"Members of the Hiking Club:\")\n",
    "# for person in hiking_club_members:\n",
    "#     print(f\"- {person.name}, Age: {person.age}, Location: {person.location}\")\n",
    "\n",
    "if __name__ == \"__main__\":\n",
    "# First, load the dataset and get the session, Club, and Person classes\n",
    "    session, Club, Person, friendships = load_dataset()\n",
    "\n",
    "# Get members of the \"Book Club\"\n",
    "    club_description = \"Book Club\"\n",
    "    members = get_club_members_by_description(session, club_description)\n",
    "\n",
    "# Check if the club has members and print their details\n",
    "    if members:\n",
    "        print(f\"Members of '{club_description}':\")\n",
    "        for member in members:\n",
    "            print(f\"- {member.name} (ID: {member.id})\")\n",
    "    else:\n",
    "        print(f\"No club found with description '{club_description}' or the club has no members.\")"
   ]
  },
  {
   "cell_type": "code",
   "execution_count": 26,
   "metadata": {},
   "outputs": [
    {
     "name": "stdout",
     "output_type": "stream",
     "text": [
      "\u001b[92m All tests passed!\n"
     ]
    }
   ],
   "source": [
    "unittests.test_get_club_members(load_dataset, get_club_members)"
   ]
  },
  {
   "cell_type": "markdown",
   "metadata": {},
   "source": [
    "### Exercise 2\n",
    "\n",
    "In this exercise, you are required to create a function named `get_friends_of_person`. This function should accept the name of a person and a session, return a list of all their friends. **Ensure that this function returns a list containing the defined Person objects.** The input must be only the **name of a person**."
   ]
  },
  {
   "cell_type": "code",
   "execution_count": 27,
   "metadata": {
    "tags": [
     "graded"
    ]
   },
   "outputs": [],
   "source": [
    "def get_friends_of_person(session, person_name):\n",
    "    \"\"\"\n",
    "    Returns a list of Person objects who are friends with the specified person.\n",
    "    \n",
    "    Parameters:\n",
    "    - person_name (str): The name of the person for whom to retrieve friends.\n",
    "    \n",
    "    Returns:\n",
    "    - List[Person]: A list of Person objects who are friends with the specified person.\n",
    "    \"\"\"\n",
    "    # Query the Person table to find the person with the given name\n",
    "    person = session.query(Person).filter(Person.name == person_name).first()\n",
    "    \n",
    "    # If the person does not exist, return an empty list\n",
    "    if person is None:\n",
    "        print(f\"Person with name '{person_name}' not found!\")\n",
    "        return []\n",
    "\n",
    "    # Ensure that none of the friends are None\n",
    "    friends = []\n",
    "    for friend in person.friends:\n",
    "        if friend is None:\n",
    "            print(f\"Warning: One of the friends of {person_name} is None!\")\n",
    "        else:\n",
    "            friends.append(friend)\n",
    "            \n",
    "    # Return the list of friends associated with the found person\n",
    "    return person.friends"
   ]
  },
  {
   "cell_type": "code",
   "execution_count": 28,
   "metadata": {},
   "outputs": [
    {
     "name": "stdout",
     "output_type": "stream",
     "text": [
      "Friends of Bob:\n",
      "- Alice, Age: 30, Location: New York\n",
      "- David, Age: 59, Location: Houston\n",
      "- Eve, Age: 18, Location: Phoenix\n",
      "- Frank, Age: 72, Location: Los Angeles\n",
      "- Henry, Age: 21, Location: Houston\n",
      "- Ivy, Age: 46, Location: New York\n",
      "- Elena, Age: 66, Location: Phoenix\n"
     ]
    }
   ],
   "source": [
    "# Example usage of the get_friends_of_person function\n",
    "\n",
    "# Fetching friends of given name\n",
    "name = \"Bob\"\n",
    "\n",
    "alice_friends = get_friends_of_person(session,name)\n",
    "\n",
    "# Printing out the names of all friends of Alice\n",
    "print(f\"Friends of {name}:\")\n",
    "for friend in alice_friends:\n",
    "    print(f\"- {friend.name}, Age: {friend.age}, Location: {friend.location}\")"
   ]
  },
  {
   "cell_type": "code",
   "execution_count": 29,
   "metadata": {},
   "outputs": [
    {
     "name": "stdout",
     "output_type": "stream",
     "text": [
      "\u001b[92m All tests passed!\n"
     ]
    }
   ],
   "source": [
    "unittests.test_get_friends_of_person(load_dataset, get_friends_of_person)"
   ]
  },
  {
   "cell_type": "markdown",
   "metadata": {},
   "source": [
    "### Exercise 3\n",
    "\n",
    "In this exercise, you're tasked with crafting a function called `get_persons_who_consider_them_friend`. This function should take two parameters: the name of an individual and a session. It will return a list of people who count this individual as a friend. It's important to remember that in our database, friendship isn't necessarily mutual. For example, Alice might consider Bob a friend, but Bob might not feel the same way about Alice. **Your function must return a list of Person objects for everyone who considers the input name their friend.** The input to this function should strictly be the **name of the person** you're inquiring about."
   ]
  },
  {
   "cell_type": "code",
   "execution_count": 11,
   "metadata": {
    "tags": [
     "graded"
    ]
   },
   "outputs": [],
   "source": [
    "def get_persons_who_consider_them_friend(session, person_name):\n",
    "    \"\"\"\n",
    "    Returns a list of Person objects who consider the specified person as their friend,\n",
    "    in a scenario where friendships are unidirectional.\n",
    "    \n",
    "    Parameters:\n",
    "    - person_name (str): The name of the person to find who is considered as a friend by others.\n",
    "    \n",
    "    Returns:\n",
    "    - List[Person]: A list of Person objects who consider the specified person as their friend.\n",
    "    \"\"\"\n",
    "    # First, find the person by the given name to get their ID\n",
    "    person = session.query(Person).filter(Person.name == person_name).first()\n",
    "    \n",
    "    # If the person does not exist, return an empty list\n",
    "    if person is None:\n",
    "        print(f\"Person with name '{person_name}' not found!\")\n",
    "        return []\n",
    "    \n",
    "    # Query the friendships table for rows where the friend_id matches the person's ID\n",
    "    friends_of = session.query(Person).join(friendships, Person.id == friendships.c.person_id).filter(friendships.c.friend_id == person.id).all()\n",
    "    # # Then, join with the Person table to get the details of the people who consider them a friend\n",
    "    # friends_of = session.query(Person).join(friendships, Person.id == friendships.c.person_id).filter(friendships.c.friend_id == person.id).all()\n",
    "    \n",
    "    # return friends_of"
   ]
  },
  {
   "cell_type": "code",
   "execution_count": 12,
   "metadata": {},
   "outputs": [
    {
     "name": "stdout",
     "output_type": "stream",
     "text": [
      "People who consider Bob as their friend:\n",
      "- David, Age: 18, Location: Chicago\n",
      "- Bob, Age: 18, Location: Chicago\n",
      "- Grace, Age: 59, Location: New York\n",
      "- Frank, Age: 35, Location: Phoenix\n"
     ]
    }
   ],
   "source": [
    "# Example usage of the get_persons_who_consider_them_friend function\n",
    "\n",
    "# Fetching people who consider given name as their friend\n",
    "name = 'Bob'\n",
    "\n",
    "name_friend_of = get_persons_who_consider_them_friend(session, name)\n",
    "\n",
    "# Printing out the names of all people who consider Alice as their friend\n",
    "print(f\"People who consider {name} as their friend:\")\n",
    "for person in name_friend_of:\n",
    "    print(f\"- {person.name}, Age: {person.age}, Location: {person.location}\")"
   ]
  },
  {
   "cell_type": "code",
   "execution_count": 13,
   "metadata": {},
   "outputs": [
    {
     "name": "stdout",
     "output_type": "stream",
     "text": [
      "\u001b[91mFailed test case: Incorrect persons who consider Alice a friend.\n",
      "Expected: ['Bob', 'Charlie', 'David', 'Elena', 'Eve', 'Frank', 'Grace', 'Henry', 'Ivy']\n",
      "Got: ['Ivy']\n",
      "\n",
      "\u001b[91mFailed test case: Incorrect persons who consider Bob a friend.\n",
      "Expected: ['Alice', 'Charlie', 'David', 'Frank', 'Grace', 'Henry', 'Ivy']\n",
      "Got: ['Bob', 'David', 'Frank', 'Grace']\n",
      "\n",
      "\u001b[91mFailed test case: Incorrect persons who consider Charlie a friend.\n",
      "Expected: ['Alice', 'David', 'Elena', 'Eve', 'Frank', 'Henry', 'Ivy']\n",
      "Got: ['Bob', 'Elena']\n",
      "\n",
      "\u001b[91mFailed test case: Incorrect persons who consider David a friend.\n",
      "Expected: ['Alice', 'Bob', 'Charlie', 'Elena', 'Eve', 'Frank', 'Grace', 'Henry', 'Ivy']\n",
      "Got: ['Frank']\n",
      "\n",
      "\u001b[91mFailed test case: Incorrect persons who consider Eve a friend.\n",
      "Expected: ['Alice', 'Bob', 'David', 'Elena', 'Frank', 'Grace', 'Henry', 'Ivy']\n",
      "Got: ['Ivy']\n",
      "\n",
      "\u001b[91mFailed test case: Incorrect persons who consider Frank a friend.\n",
      "Expected: ['Bob', 'Charlie', 'David', 'Elena', 'Eve', 'Grace', 'Ivy']\n",
      "Got: ['Eve', 'Frank']\n",
      "\n",
      "\u001b[91mFailed test case: Incorrect persons who consider Grace a friend.\n",
      "Expected: ['Charlie', 'David', 'Elena', 'Eve', 'Frank', 'Henry', 'Ivy']\n",
      "Got: ['Alice', 'Elena']\n",
      "\n",
      "\u001b[91mFailed test case: Incorrect persons who consider Henry a friend.\n",
      "Expected: ['Alice', 'Bob', 'Charlie', 'David', 'Elena', 'Eve', 'Frank', 'Grace', 'Ivy']\n",
      "Got: ['Grace', 'Grace']\n",
      "\n",
      "\u001b[91mFailed test case: Incorrect persons who consider Ivy a friend.\n",
      "Expected: ['Alice', 'Bob', 'Charlie', 'David', 'Elena', 'Grace']\n",
      "Got: []\n",
      "\n",
      "\u001b[91mFailed test case: Incorrect persons who consider Elena a friend.\n",
      "Expected: ['Alice', 'Bob', 'Charlie', 'David', 'Eve', 'Frank', 'Grace', 'Henry', 'Ivy']\n",
      "Got: ['Alice', 'Bob']\n",
      "\n",
      "\n"
     ]
    }
   ],
   "source": [
    "unittests.test_get_persons_who_consider_them_friend(load_dataset, get_persons_who_consider_them_friend)"
   ]
  },
  {
   "cell_type": "markdown",
   "metadata": {},
   "source": [
    "## Now test your Dataset!"
   ]
  },
  {
   "cell_type": "code",
   "execution_count": 14,
   "metadata": {},
   "outputs": [
    {
     "name": "stdout",
     "output_type": "stream",
     "text": [
      "\u001b[91mFailed test case: Incorrect number of persons in the database.\n",
      "Expected: 10\n",
      "Got: 100\n",
      "\n",
      "\n"
     ]
    }
   ],
   "source": [
    "unittests.test_load_dataset(load_dataset)"
   ]
  },
  {
   "cell_type": "markdown",
   "metadata": {},
   "source": [
    "<details>    \n",
    "<summary>\n",
    "    <font size=\"3\" color=\"darkgreen\"><b>Hint 1</b></font>\n",
    "</summary>\n",
    "<p>\n",
    "Check how the persons are being inserted into the dataset! Does the random is necessary?\n",
    "</p>\n",
    "</details>"
   ]
  },
  {
   "cell_type": "markdown",
   "metadata": {},
   "source": [
    "<details>    \n",
    "<summary>\n",
    "    <font size=\"3\" color=\"darkgreen\"><b>Hint 2</b></font>\n",
    "</summary>\n",
    "<p>\n",
    "You may have to properly handle how friendships are created. Ask an LLM how you can fix that part.\n",
    "</p>\n",
    "</details>"
   ]
  },
  {
   "cell_type": "markdown",
   "metadata": {},
   "source": [
    "<details>    \n",
    "<summary>\n",
    "    <font size=\"3\" color=\"darkgreen\"><b>Hint 3</b></font>\n",
    "</summary>\n",
    "<p>\n",
    "Remember that friendships are not bidirectional! Specify it when asking the LLM to make your last function!\n",
    "</p>\n",
    "</details>"
   ]
  },
  {
   "cell_type": "markdown",
   "metadata": {},
   "source": [
    "Congratulations! You have finished the assignment! Keep up!"
   ]
  }
 ],
 "metadata": {
  "colab": {
   "provenance": []
  },
  "grader_version": "1",
  "kernelspec": {
   "display_name": "Python 3 (ipykernel)",
   "language": "python",
   "name": "python3"
  },
  "language_info": {
   "codemirror_mode": {
    "name": "ipython",
    "version": 3
   },
   "file_extension": ".py",
   "mimetype": "text/x-python",
   "name": "python",
   "nbconvert_exporter": "python",
   "pygments_lexer": "ipython3",
   "version": "3.11.6"
  }
 },
 "nbformat": 4,
 "nbformat_minor": 4
}
